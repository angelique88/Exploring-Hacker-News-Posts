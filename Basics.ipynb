{
 "cells": [
  {
   "cell_type": "markdown",
   "metadata": {},
   "source": [
    "# Exploring Hacker News Posts\n",
    "\n",
    "Hacker News is a site where user-submitted \"posts\" are voted and commented upon, similar to reddit. Hacker News is extremely popular in technology and startup circles, and posts that make it to the top of Hacker News' listings can get hundreds of thousands of visitors as a result.\n",
    "\n",
    "<br>\n",
    "\n",
    "We'll open and read the data set below to see what information it contains:"
   ]
  },
  {
   "cell_type": "code",
   "execution_count": 1,
   "metadata": {
    "collapsed": false,
    "scrolled": false
   },
   "outputs": [
    {
     "name": "stdout",
     "output_type": "stream",
     "text": [
      "['id', 'title', 'url', 'num_points', 'num_comments', 'author', 'created_at']\n",
      "\n",
      "\n",
      "['12224879', 'Interactive Dynamic Video', 'http://www.interactivedynamicvideo.com/', '386', '52', 'ne0phyte', '8/4/2016 11:52']\n",
      "\n",
      "\n",
      "['10975351', 'How to Use Open Source and Shut the Fuck Up at the Same Time', 'http://hueniverse.com/2016/01/26/how-to-use-open-source-and-shut-the-fuck-up-at-the-same-time/', '39', '10', 'josep2', '1/26/2016 19:30']\n",
      "\n",
      "\n",
      "['11964716', \"Florida DJs May Face Felony for April Fools' Water Joke\", 'http://www.thewire.com/entertainment/2013/04/florida-djs-april-fools-water-joke/63798/', '2', '1', 'vezycash', '6/23/2016 22:20']\n",
      "\n",
      "\n",
      "['11919867', 'Technology ventures: From Idea to Enterprise', 'https://www.amazon.com/Technology-Ventures-Enterprise-Thomas-Byers/dp/0073523429', '3', '1', 'hswarna', '6/17/2016 0:01']\n",
      "\n",
      "\n"
     ]
    }
   ],
   "source": [
    "from csv import reader\n",
    "opened = open(\"hacker_news.csv\") \n",
    "read_file = reader(opened)\n",
    "hn = list(read_file)\n",
    "\n",
    "for row in hn[0:5]:\n",
    "    print(row)\n",
    "    print(\"\\n\")"
   ]
  },
  {
   "cell_type": "markdown",
   "metadata": {
    "collapsed": true
   },
   "source": [
    "Below are descriptions of the columns:\n",
    "\n",
    "* `id`: The unique identifier from Hacker News for the post\n",
    "* `title`: The title of the post\n",
    "* `url`: The URL that the posts links to, if it the post has a URL\n",
    "* `num_points`: The number of points the post acquired, calculated as the total number of upvotes minus the total number of downvotes\n",
    "* `num_comments`: The number of comments that were made on the post\n",
    "* `author`: The username of the person who submitted the post\n",
    "* `created_at`: The date and time at which the post was submitted"
   ]
  },
  {
   "cell_type": "code",
   "execution_count": 2,
   "metadata": {
    "collapsed": false
   },
   "outputs": [],
   "source": [
    "#In order to analyze our data, we need to first remove the row containing the column headers\n",
    "\n",
    "header = hn[0]\n",
    "data = hn[1:]\n"
   ]
  },
  {
   "cell_type": "markdown",
   "metadata": {},
   "source": [
    "We'll compare these two types of posts to determine the following:\n",
    "\n",
    "* Do Ask HN or Show HN receive more comments on average?\n",
    "* Do posts created at a certain time receive more comments on average?\n",
    "\n",
    "Since we're only concerned with post titles beginning with Ask HN or Show HN, we'll create new lists of lists containing just the data for those titles."
   ]
  },
  {
   "cell_type": "code",
   "execution_count": 3,
   "metadata": {
    "collapsed": false,
    "scrolled": true
   },
   "outputs": [
    {
     "name": "stdout",
     "output_type": "stream",
     "text": [
      "Number of ask posts: 1744\n",
      "Number of show posts: 1162\n",
      "Number of other posts: 18938\n"
     ]
    }
   ],
   "source": [
    "ask_posts = []\n",
    "show_posts = []\n",
    "other_posts = []\n",
    "\n",
    "for row in data:\n",
    "    title = row[1]\n",
    "    \n",
    "    if title.lower().startswith('ask hn'):\n",
    "        ask_posts.append(title)\n",
    "    if title.lower().startswith('show hn'):\n",
    "        show_posts.append(title)\n",
    "    else:\n",
    "        other_posts.append(title)\n",
    "        \n",
    "        \n",
    "print(\"Number of ask posts:\", len(ask_posts))\n",
    "print(\"Number of show posts:\", len(show_posts))\n",
    "print(\"Number of other posts:\", len(other_posts))\n",
    "    \n"
   ]
  },
  {
   "cell_type": "markdown",
   "metadata": {},
   "source": [
    "Let's determine if ask posts or show posts receive more comments on average."
   ]
  },
  {
   "cell_type": "code",
   "execution_count": 4,
   "metadata": {
    "collapsed": false,
    "scrolled": true
   },
   "outputs": [
    {
     "name": "stdout",
     "output_type": "stream",
     "text": [
      "Average number of comments on 'Ask posts': 14.038417431192661\n",
      "Average number of comments on 'Show posts': 10.31669535283993\n"
     ]
    }
   ],
   "source": [
    "#ASK POSTS\n",
    "ask_comments = 0\n",
    "\n",
    "for row in data:\n",
    "    if row[1] in ask_posts:\n",
    "        num_comments = int(row[4])\n",
    "        ask_comments += num_comments\n",
    "    \n",
    "avg_ask = ask_comments / len(ask_posts)\n",
    "\n",
    "print(\"Average number of comments on 'Ask posts':\", avg_ask)\n",
    "\n",
    "\n",
    "#SHOW POSTS\n",
    "show_comments = 0\n",
    "\n",
    "for row in data:\n",
    "    if row[1] in show_posts:\n",
    "        num_comments = int(row[4])\n",
    "        show_comments += num_comments\n",
    "    \n",
    "avg_show = show_comments / len(show_posts)\n",
    "\n",
    "print(\"Average number of comments on 'Show posts':\", avg_show)\n",
    "    \n",
    "    "
   ]
  },
  {
   "cell_type": "markdown",
   "metadata": {},
   "source": [
    "Since ask posts are more likely to receive comments, we'll focus our remaining analysis just on these posts.\n",
    "\n",
    "Next, we'll determine if ask posts created at a certain time are more likely to attract comments."
   ]
  },
  {
   "cell_type": "code",
   "execution_count": 5,
   "metadata": {
    "collapsed": false,
    "scrolled": true
   },
   "outputs": [
    {
     "name": "stdout",
     "output_type": "stream",
     "text": [
      "Hour frequency table:\n",
      "0 : 55\n",
      "1 : 60\n",
      "2 : 58\n",
      "3 : 54\n",
      "4 : 47\n",
      "5 : 46\n",
      "6 : 44\n",
      "7 : 34\n",
      "8 : 48\n",
      "9 : 45\n",
      "10 : 59\n",
      "11 : 58\n",
      "12 : 73\n",
      "13 : 85\n",
      "14 : 107\n",
      "15 : 116\n",
      "16 : 108\n",
      "17 : 100\n",
      "18 : 109\n",
      "19 : 110\n",
      "20 : 80\n",
      "21 : 109\n",
      "22 : 71\n",
      "23 : 68\n",
      "\n",
      "\n",
      "Comment frequency by hour table:\n",
      "0 : 447\n",
      "1 : 683\n",
      "2 : 1381\n",
      "3 : 421\n",
      "4 : 337\n",
      "5 : 464\n",
      "6 : 397\n",
      "7 : 267\n",
      "8 : 492\n",
      "9 : 251\n",
      "10 : 793\n",
      "11 : 641\n",
      "12 : 687\n",
      "13 : 1253\n",
      "14 : 1416\n",
      "15 : 4477\n",
      "16 : 1814\n",
      "17 : 1146\n",
      "18 : 1439\n",
      "19 : 1188\n",
      "20 : 1722\n",
      "21 : 1745\n",
      "22 : 479\n",
      "23 : 543\n"
     ]
    }
   ],
   "source": [
    "import datetime as dt\n",
    "\n",
    "#time format in created_at column: 8/4/2016 11:52\n",
    "\n",
    "result_list = []\n",
    "\n",
    "for row in data:\n",
    "    if row[1] in ask_posts:\n",
    "        time = row[6]\n",
    "        num_comments = int(row[4])\n",
    "        time_comments = []\n",
    "        \n",
    "        \n",
    "        time_dt = dt.datetime.strptime(time, \"%m/%d/%Y %H:%M\")\n",
    "        hour = time_dt.hour\n",
    "        \n",
    "        time_comments.append(hour)\n",
    "        time_comments.append(num_comments)\n",
    "        \n",
    "        result_list.append(time_comments)\n",
    "        \n",
    "        \n",
    "hour_freq = {}   #hour, freq\n",
    "hour_comment = {}  #hour, total comments\n",
    "\n",
    "for result in result_list:\n",
    "    hour = result[0]\n",
    "    comments = result[1]\n",
    "    if hour in hour_freq:\n",
    "        hour_freq[hour] +=1\n",
    "        hour_comment[hour] += comments\n",
    "    else:\n",
    "        hour_freq[hour] = 1\n",
    "        hour_comment[hour] = comments\n",
    "        \n",
    "print(\"Hour frequency table:\")\n",
    "for key, value in hour_freq.items():\n",
    "    print(key, \":\", value)\n",
    "\n",
    "print(\"\\n\")\n",
    "\n",
    "print(\"Comment frequency by hour table:\")\n",
    "for key, value in hour_comment.items():\n",
    "    print(key, \":\", value)\n",
    "    "
   ]
  },
  {
   "cell_type": "markdown",
   "metadata": {},
   "source": [
    "Next, we'll use these two dictionaries to calculate the average number of comments for posts created during each hour of the day."
   ]
  },
  {
   "cell_type": "code",
   "execution_count": 16,
   "metadata": {
    "collapsed": false,
    "scrolled": true
   },
   "outputs": [
    {
     "name": "stdout",
     "output_type": "stream",
     "text": [
      "Average comments by hour:\n",
      "[0, 8.127272727272727]\n",
      "[1, 11.383333333333333]\n",
      "[2, 23.810344827586206]\n",
      "[3, 7.796296296296297]\n",
      "[4, 7.170212765957447]\n",
      "[5, 10.08695652173913]\n",
      "[6, 9.022727272727273]\n",
      "[7, 7.852941176470588]\n",
      "[8, 10.25]\n",
      "[9, 5.5777777777777775]\n",
      "[10, 13.440677966101696]\n",
      "[11, 11.051724137931034]\n",
      "[12, 9.41095890410959]\n",
      "[13, 14.741176470588234]\n",
      "[14, 13.233644859813085]\n",
      "[15, 38.5948275862069]\n",
      "[16, 16.796296296296298]\n",
      "[17, 11.46]\n",
      "[18, 13.20183486238532]\n",
      "[19, 10.8]\n",
      "[20, 21.525]\n",
      "[21, 16.009174311926607]\n",
      "[22, 6.746478873239437]\n",
      "[23, 7.985294117647059]\n"
     ]
    }
   ],
   "source": [
    "avg_comment_hour = []\n",
    "\n",
    "for hour in hour_freq:\n",
    "    tot_comment = hour_comment[hour]\n",
    "    avg = tot_comment / hour_freq[hour]\n",
    "    \n",
    "    temp = []\n",
    "    temp.append(hour)\n",
    "    temp.append(avg)\n",
    "    \n",
    "    avg_comment_hour.append(temp)\n",
    "    \n",
    "print(\"Average comments by hour:\")    \n",
    "for item in avg_comment_hour:\n",
    "    print(item)\n",
    "    \n",
    "   "
   ]
  },
  {
   "cell_type": "markdown",
   "metadata": {},
   "source": [
    "Although we now have the results we need, this format makes it hard to identify the hours with the highest values. Let's finish by sorting the list of lists and printing the five highest values in a format that's easier to read."
   ]
  },
  {
   "cell_type": "code",
   "execution_count": 33,
   "metadata": {
    "collapsed": false,
    "scrolled": true
   },
   "outputs": [
    {
     "name": "stdout",
     "output_type": "stream",
     "text": [
      "Top 5 Hours for Ask Posts Comments:\n",
      "15:00: 38.59 average comments per post.\n",
      "2:00: 23.81 average comments per post.\n",
      "20:00: 21.52 average comments per post.\n",
      "16:00: 16.80 average comments per post.\n",
      "21:00: 16.01 average comments per post.\n"
     ]
    }
   ],
   "source": [
    "swap_avg_by_hour = []\n",
    "for item in avg_comment_hour:\n",
    "    temp = []\n",
    "    temp.append(item[1])\n",
    "    temp.append(item[0])\n",
    "    swap_avg_by_hour.append(temp)\n",
    "\n",
    "sorted_swap = sorted(swap_avg_by_hour, reverse = True)\n",
    "\n",
    "print(\"Top 5 Hours for Ask Posts Comments:\")\n",
    "\n",
    "top_5 = sorted_swap[0:5]\n",
    "\n",
    "    \n",
    "for item in top_5:\n",
    "    template = \"{hour}:00: {num:.2f} average comments per post.\"\n",
    "    output = template.format(hour = item[1], num = item[0])\n",
    "    print(output)"
   ]
  },
  {
   "cell_type": "markdown",
   "metadata": {},
   "source": [
    "### Conclusion\n",
    "\n",
    "In order to have a higher chance of receiving comments, you should create an \"Ask Post\" during the hours listed above. This may change depending on the time zone you live in.\n"
   ]
  }
 ],
 "metadata": {
  "kernelspec": {
   "display_name": "Python 3",
   "language": "python",
   "name": "python3"
  },
  "language_info": {
   "codemirror_mode": {
    "name": "ipython",
    "version": 3
   },
   "file_extension": ".py",
   "mimetype": "text/x-python",
   "name": "python",
   "nbconvert_exporter": "python",
   "pygments_lexer": "ipython3",
   "version": "3.4.3"
  }
 },
 "nbformat": 4,
 "nbformat_minor": 2
}
